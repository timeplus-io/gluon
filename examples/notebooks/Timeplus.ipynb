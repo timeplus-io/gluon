{
 "cells": [
  {
   "cell_type": "markdown",
   "id": "2a9ca14d-c2d5-4050-9ad4-aaa9362cbef8",
   "metadata": {},
   "source": [
    "### connect to timeplus using access token"
   ]
  },
  {
   "cell_type": "code",
   "execution_count": null,
   "id": "9b9b0f63-bd32-42e0-a707-b2bc4958d107",
   "metadata": {},
   "outputs": [],
   "source": [
    "import os\n",
    "\n",
    "from timeplus import Env\n",
    "\n",
    "token = os.environ.get(\"TIMEPLUS_API_TOKEN\")\n",
    "env = (\n",
    "    Env().schema(\"https\").host(\"staging.demo.timeplus.io\").port(\"443\").token(token)\n",
    ")\n",
    "# set current environment when you have more than 1 environment\n",
    "Env.setCurrent(env)"
   ]
  },
  {
   "cell_type": "markdown",
   "id": "ee21b6e1-17f7-4e6d-88be-e9ec4834d21e",
   "metadata": {},
   "source": [
    "### create a new stream"
   ]
  },
  {
   "cell_type": "code",
   "execution_count": null,
   "id": "b917ba27-5568-4a37-8108-bf896615e459",
   "metadata": {},
   "outputs": [],
   "source": [
    "from timeplus import Stream, StreamColumn\n",
    "\n",
    "s = (\n",
    "        Stream()\n",
    "        .name(\"clicks\")\n",
    "        .column(StreamColumn().name(\"number\").type(\"int\"))\n",
    "        .column(StreamColumn().name(\"lable\").type(\"string\"))\n",
    "    )\n",
    "\n",
    "s.create()"
   ]
  },
  {
   "cell_type": "markdown",
   "id": "6e1fbb64-11ba-47f8-abca-2e3803f2db81",
   "metadata": {},
   "source": [
    "### insert data to stream"
   ]
  },
  {
   "cell_type": "code",
   "execution_count": null,
   "id": "3d8fbaea-2285-4842-95e4-9760e323bb8c",
   "metadata": {},
   "outputs": [],
   "source": [
    "s.insert([\n",
    "    [3,\"welcome\"],\n",
    "    [4, \"to stream processing\"]\n",
    "])"
   ]
  },
  {
   "cell_type": "markdown",
   "id": "aca430c4-e8cf-4c8b-9949-b1e9d627b105",
   "metadata": {},
   "source": [
    "### delete stream"
   ]
  },
  {
   "cell_type": "code",
   "execution_count": null,
   "id": "87da276a-5fa5-4768-8d5e-3593a899235c",
   "metadata": {},
   "outputs": [],
   "source": [
    "s.delete()"
   ]
  },
  {
   "cell_type": "markdown",
   "id": "f5cc8053-d57d-4492-b1aa-ce99b5d01e3f",
   "metadata": {},
   "source": [
    "### query an existing stream"
   ]
  },
  {
   "cell_type": "code",
   "execution_count": null,
   "id": "d9c55ba6-a4a1-4582-a05c-b46bb98f6c71",
   "metadata": {},
   "outputs": [],
   "source": [
    "from rx import operators as ops\n",
    "from timeplus import Query\n",
    "\n",
    "query = Query().sql(f\"select * from car_live_data\")\n",
    "query.create()\n",
    "\n",
    "# print query result header\n",
    "print(\" \".join([ header[\"name\"] for header in query.header()]))\n",
    "\n",
    "# print 3 query result rows\n",
    "query.get_result_stream().pipe(ops.take(3)).subscribe(\n",
    "    on_next=lambda i: print(i),\n",
    "    on_error=lambda e: print(f\"error {e}\"),\n",
    "    on_completed=lambda: query.stop(),\n",
    ")"
   ]
  }
 ],
 "metadata": {
  "kernelspec": {
   "display_name": "Python 3 (ipykernel)",
   "language": "python",
   "name": "python3"
  },
  "language_info": {
   "codemirror_mode": {
    "name": "ipython",
    "version": 3
   },
   "file_extension": ".py",
   "mimetype": "text/x-python",
   "name": "python",
   "nbconvert_exporter": "python",
   "pygments_lexer": "ipython3",
   "version": "3.9.10"
  }
 },
 "nbformat": 4,
 "nbformat_minor": 5
}
