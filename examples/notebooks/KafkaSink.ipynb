{
 "cells": [
  {
   "cell_type": "code",
   "execution_count": 1,
   "id": "c134b033-4d8f-46a6-ad4a-62b2a42733bf",
   "metadata": {},
   "outputs": [],
   "source": [
    "import os\n",
    "\n",
    "from timeplus import Env\n",
    "\n",
    "token = os.environ.get(\"AUTH0_API_TOKEN\")\n",
    "env = (\n",
    "    Env().schema(\"http\").host(\"host.docker.internal\").port(\"8000\").token(token)\n",
    ")\n",
    "# set current environment when you have more than 1 environment\n",
    "Env.setCurrent(env)"
   ]
  },
  {
   "cell_type": "code",
   "execution_count": 15,
   "id": "55fd5420-12f0-4ca8-8952-d0d6bfafc4e4",
   "metadata": {},
   "outputs": [
    {
     "name": "stdout",
     "output_type": "stream",
     "text": [
      "{'id': '0da1bfe5-b394-4bb4-891e-f15626408e32', 'name': 'ws_default', 'type': 'websocket', 'properties': {'sessionID': ''}}\n",
      "{'id': '873018f6-93dd-4689-9fc6-95df1db2fcc8', 'name': 'ws_default', 'type': 'websocket', 'properties': {'sessionID': ''}}\n",
      "{'id': 'addac16e-02ab-41b9-97f4-6db44664ceff', 'name': 'kafka', 'type': 'kafka', 'properties': {'brokers': 'pkc-ld537.ca-central-1.aws.confluent.cloud:9092', 'data_type': 'json', 'password': '****************************************************************', 'sasl': 'plain', 'topic': 'covid19_sink', 'username': '****************'}}\n",
      "{'id': 'c81fa535-c06b-4619-aad3-45edda93a5e6', 'name': 'ws_default', 'type': 'websocket', 'properties': {'sessionID': ''}}\n",
      "{'id': 'dc03dac6-1edf-4ce5-8905-3b9c643bbc16', 'name': 'ws_default', 'type': 'websocket', 'properties': {'sessionID': ''}}\n",
      "{'id': 'efa39cc2-465b-474f-b45b-624bfa2c2e51', 'name': 'kafka', 'type': 'kafka', 'properties': {'brokers': 'pkc-ld537.ca-central-1.aws.confluent.cloud:9092', 'data_type': 'json', 'password': '****************************************************************', 'sasl': 'plain', 'topic': 'covid19_sink', 'username': '****************'}}\n",
      "{'id': '07bdf9bd-6d4b-4a93-9377-9e4772a81d91', 'name': 'ws_default', 'type': 'websocket', 'properties': {'sessionID': ''}}\n",
      "{'id': '381ebb33-20f8-4f52-9431-a8f0eb1215f2', 'name': 'ws_default', 'type': 'websocket', 'properties': {'sessionID': ''}}\n",
      "{'id': '8abd874d-5e9c-4e01-8371-d54437a3e0f4', 'name': 'ws_default', 'type': 'websocket', 'properties': {'sessionID': ''}}\n",
      "{'id': '9842a117-c2b9-4ac5-a700-a2e68f246312', 'name': 'ws_default', 'type': 'websocket', 'properties': {'sessionID': ''}}\n",
      "{'id': '991205b9-d1af-464a-818c-c443d40606f6', 'name': 'ws_default', 'type': 'websocket', 'properties': {'sessionID': ''}}\n",
      "{'id': 'a2c2e36f-226c-4d82-bec9-2dbed0603e50', 'name': 'ws_default', 'type': 'websocket', 'properties': {'sessionID': ''}}\n"
     ]
    }
   ],
   "source": [
    "from timeplus import Sink\n",
    "\n",
    "for s in Sink.list():\n",
    "    print(s.id())"
   ]
  },
  {
   "cell_type": "code",
   "execution_count": 10,
   "id": "fa02f572-813d-4ef4-bcb8-aec92435e0c9",
   "metadata": {},
   "outputs": [
    {
     "name": "stdout",
     "output_type": "stream",
     "text": [
      "2022-04-23T20:07:55.448864+0000 - ERROR - failed to add sink http method post, response code 404, failed to add sink efa39cc2-465b-474f-b45b-624bfa2c2e51 to query 28238dd5-2462-4840-ae06-39d503e90072 404 \n"
     ]
    },
    {
     "ename": "TimeplusAPIError",
     "evalue": "http method post, response code 404, failed to add sink efa39cc2-465b-474f-b45b-624bfa2c2e51 to query 28238dd5-2462-4840-ae06-39d503e90072 404 ",
     "output_type": "error",
     "traceback": [
      "\u001b[0;31m---------------------------------------------------------------------------\u001b[0m",
      "\u001b[0;31mTimeplusAPIError\u001b[0m                          Traceback (most recent call last)",
      "Input \u001b[0;32mIn [10]\u001b[0m, in \u001b[0;36m<cell line: 14>\u001b[0;34m()\u001b[0m\n\u001b[1;32m      7\u001b[0m sink \u001b[38;5;241m=\u001b[39m KafkaSink()\u001b[38;5;241m.\u001b[39mname(\u001b[38;5;124m\"\u001b[39m\u001b[38;5;124mkafka\u001b[39m\u001b[38;5;124m\"\u001b[39m)\u001b[38;5;241m.\u001b[39mproperties(\n\u001b[1;32m      8\u001b[0m     KafkaProperties()\u001b[38;5;241m.\u001b[39mtopic(\u001b[38;5;124m\"\u001b[39m\u001b[38;5;124mcovid19_sink\u001b[39m\u001b[38;5;124m\"\u001b[39m)\n\u001b[1;32m      9\u001b[0m     \u001b[38;5;241m.\u001b[39mbrokers(\u001b[38;5;124m\"\u001b[39m\u001b[38;5;124mpkc-ld537.ca-central-1.aws.confluent.cloud:9092\u001b[39m\u001b[38;5;124m\"\u001b[39m)\n\u001b[1;32m     10\u001b[0m     \u001b[38;5;241m.\u001b[39msasl(\u001b[38;5;124m\"\u001b[39m\u001b[38;5;124mplain\u001b[39m\u001b[38;5;124m\"\u001b[39m)\u001b[38;5;241m.\u001b[39musername(\u001b[38;5;124m\"\u001b[39m\u001b[38;5;124mFUATNXDP7XKVELBM\u001b[39m\u001b[38;5;124m\"\u001b[39m)\n\u001b[1;32m     11\u001b[0m     \u001b[38;5;241m.\u001b[39mpassword(\u001b[38;5;124m\"\u001b[39m\u001b[38;5;124mMNNRwfuLnV298tMHY++5zrivNdpdiq5xkkyDPEQHmYhJ+3Wf728SappHGK83eiY0\u001b[39m\u001b[38;5;124m\"\u001b[39m)\n\u001b[1;32m     12\u001b[0m )\n\u001b[1;32m     13\u001b[0m sink\u001b[38;5;241m.\u001b[39mcreate()\n\u001b[0;32m---> 14\u001b[0m \u001b[43mquery\u001b[49m\u001b[38;5;241;43m.\u001b[39;49m\u001b[43msink_to\u001b[49m\u001b[43m(\u001b[49m\u001b[43msink\u001b[49m\u001b[43m)\u001b[49m\n\u001b[1;32m     16\u001b[0m query\u001b[38;5;241m.\u001b[39mget_result_stream()\u001b[38;5;241m.\u001b[39mpipe(ops\u001b[38;5;241m.\u001b[39mtake(\u001b[38;5;241m5\u001b[39m))\u001b[38;5;241m.\u001b[39msubscribe(\n\u001b[1;32m     17\u001b[0m     on_next\u001b[38;5;241m=\u001b[39m\u001b[38;5;28;01mlambda\u001b[39;00m i: \u001b[38;5;28mprint\u001b[39m(i),\n\u001b[1;32m     18\u001b[0m     on_error\u001b[38;5;241m=\u001b[39m\u001b[38;5;28;01mlambda\u001b[39;00m e: \u001b[38;5;28mprint\u001b[39m(\u001b[38;5;124mf\u001b[39m\u001b[38;5;124m\"\u001b[39m\u001b[38;5;124merror \u001b[39m\u001b[38;5;132;01m{\u001b[39;00me\u001b[38;5;132;01m}\u001b[39;00m\u001b[38;5;124m\"\u001b[39m),\n\u001b[1;32m     19\u001b[0m     on_completed\u001b[38;5;241m=\u001b[39m\u001b[38;5;28;01mlambda\u001b[39;00m: query\u001b[38;5;241m.\u001b[39mstop(),\n\u001b[1;32m     20\u001b[0m )\n",
      "File \u001b[0;32m/opt/conda/lib/python3.9/site-packages/timeplus/query.py:133\u001b[0m, in \u001b[0;36mQuery.sink_to\u001b[0;34m(self, sink)\u001b[0m\n\u001b[1;32m    131\u001b[0m \u001b[38;5;28;01mexcept\u001b[39;00m \u001b[38;5;167;01mException\u001b[39;00m \u001b[38;5;28;01mas\u001b[39;00m e:\n\u001b[1;32m    132\u001b[0m     \u001b[38;5;28mself\u001b[39m\u001b[38;5;241m.\u001b[39m_logger\u001b[38;5;241m.\u001b[39merror(\u001b[38;5;124mf\u001b[39m\u001b[38;5;124m\"\u001b[39m\u001b[38;5;124mfailed to add sink \u001b[39m\u001b[38;5;132;01m{\u001b[39;00me\u001b[38;5;132;01m}\u001b[39;00m\u001b[38;5;124m\"\u001b[39m)\n\u001b[0;32m--> 133\u001b[0m     \u001b[38;5;28;01mraise\u001b[39;00m e\n",
      "File \u001b[0;32m/opt/conda/lib/python3.9/site-packages/timeplus/query.py:127\u001b[0m, in \u001b[0;36mQuery.sink_to\u001b[0;34m(self, sink)\u001b[0m\n\u001b[1;32m    125\u001b[0m \u001b[38;5;28;01mif\u001b[39;00m r\u001b[38;5;241m.\u001b[39mstatus_code \u001b[38;5;241m<\u001b[39m \u001b[38;5;241m200\u001b[39m \u001b[38;5;129;01mor\u001b[39;00m r\u001b[38;5;241m.\u001b[39mstatus_code \u001b[38;5;241m>\u001b[39m \u001b[38;5;241m299\u001b[39m:\n\u001b[1;32m    126\u001b[0m     err_msg \u001b[38;5;241m=\u001b[39m \u001b[38;5;124mf\u001b[39m\u001b[38;5;124m\"\u001b[39m\u001b[38;5;124mfailed to add sink \u001b[39m\u001b[38;5;132;01m{\u001b[39;00msink\u001b[38;5;241m.\u001b[39mid()\u001b[38;5;132;01m}\u001b[39;00m\u001b[38;5;124m to query \u001b[39m\u001b[38;5;132;01m{\u001b[39;00m\u001b[38;5;28mself\u001b[39m\u001b[38;5;241m.\u001b[39mid()\u001b[38;5;132;01m}\u001b[39;00m\u001b[38;5;124m \u001b[39m\u001b[38;5;132;01m{\u001b[39;00mr\u001b[38;5;241m.\u001b[39mstatus_code\u001b[38;5;132;01m}\u001b[39;00m\u001b[38;5;124m \u001b[39m\u001b[38;5;132;01m{\u001b[39;00mr\u001b[38;5;241m.\u001b[39mtext\u001b[38;5;132;01m}\u001b[39;00m\u001b[38;5;124m\"\u001b[39m\n\u001b[0;32m--> 127\u001b[0m     \u001b[38;5;28;01mraise\u001b[39;00m TimeplusAPIError(\u001b[38;5;124m\"\u001b[39m\u001b[38;5;124mpost\u001b[39m\u001b[38;5;124m\"\u001b[39m, r\u001b[38;5;241m.\u001b[39mstatus_code, err_msg)\n\u001b[1;32m    128\u001b[0m \u001b[38;5;28;01melse\u001b[39;00m:\n\u001b[1;32m    129\u001b[0m     \u001b[38;5;28mself\u001b[39m\u001b[38;5;241m.\u001b[39m_logger\u001b[38;5;241m.\u001b[39mdebug(\u001b[38;5;124mf\u001b[39m\u001b[38;5;124m\"\u001b[39m\u001b[38;5;124madd sink \u001b[39m\u001b[38;5;132;01m{\u001b[39;00msink\u001b[38;5;241m.\u001b[39mid()\u001b[38;5;132;01m}\u001b[39;00m\u001b[38;5;124m to query \u001b[39m\u001b[38;5;132;01m{\u001b[39;00m\u001b[38;5;28mself\u001b[39m\u001b[38;5;241m.\u001b[39mid()\u001b[38;5;132;01m}\u001b[39;00m\u001b[38;5;124m success\u001b[39m\u001b[38;5;124m\"\u001b[39m)\n",
      "\u001b[0;31mTimeplusAPIError\u001b[0m: http method post, response code 404, failed to add sink efa39cc2-465b-474f-b45b-624bfa2c2e51 to query 28238dd5-2462-4840-ae06-39d503e90072 404 "
     ]
    }
   ],
   "source": [
    "from timeplus import Query, KafkaSink, KafkaProperties\n",
    "from rx import operators as ops\n",
    "\n",
    "query = Query().sql(f\"select * from covid19 SETTINGS seek_to='earliest'\")\n",
    "query.create()\n",
    "\n",
    "sink = KafkaSink().name(\"kafka\").properties(\n",
    "    KafkaProperties().topic(\"covid19_sink\")\n",
    "    .brokers(\"pkc-ld537.ca-central-1.aws.confluent.cloud:9092\")\n",
    "    .sasl(\"plain\").username(\"FUATNXDP7XKVELBM\")\n",
    "    .password(\"MNNRwfuLnV298tMHY++5zrivNdpdiq5xkkyDPEQHmYhJ+3Wf728SappHGK83eiY0\")\n",
    ")\n",
    "sink.create()\n",
    "query.sink_to(sink)\n",
    "\n",
    "query.get_result_stream().pipe(ops.take(5)).subscribe(\n",
    "    on_next=lambda i: print(i),\n",
    "    on_error=lambda e: print(f\"error {e}\"),\n",
    "    on_completed=lambda: query.stop(),\n",
    ")"
   ]
  }
 ],
 "metadata": {
  "kernelspec": {
   "display_name": "Python 3 (ipykernel)",
   "language": "python",
   "name": "python3"
  },
  "language_info": {
   "codemirror_mode": {
    "name": "ipython",
    "version": 3
   },
   "file_extension": ".py",
   "mimetype": "text/x-python",
   "name": "python",
   "nbconvert_exporter": "python",
   "pygments_lexer": "ipython3",
   "version": "3.9.10"
  }
 },
 "nbformat": 4,
 "nbformat_minor": 5
}
