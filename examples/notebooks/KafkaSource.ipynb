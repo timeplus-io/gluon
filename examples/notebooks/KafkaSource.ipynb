{
 "cells": [
  {
   "cell_type": "markdown",
   "id": "2a9ca14d-c2d5-4050-9ad4-aaa9362cbef8",
   "metadata": {},
   "source": [
    "### connect to timeplus using access token"
   ]
  },
  {
   "cell_type": "code",
   "execution_count": null,
   "id": "9b9b0f63-bd32-42e0-a707-b2bc4958d107",
   "metadata": {},
   "outputs": [],
   "source": [
    "import os\n",
    "from timeplus import Env\n",
    "\n",
    "token = os.environ.get(\"TIMEPLUS_API_TOKEN\")\n",
    "env = (\n",
    "    Env().schema(\"http\").host(\"host.docker.internal\").port(\"8000\").token(token)\n",
    ")\n",
    "# set current environment when you have more than 1 environment\n",
    "Env.setCurrent(env)"
   ]
  },
  {
   "cell_type": "code",
   "execution_count": null,
   "id": "86a36042-baff-4f3a-91ba-8932635eee22",
   "metadata": {},
   "outputs": [],
   "source": [
    "from timeplus import Source\n",
    "\n",
    "Source.list()"
   ]
  },
  {
   "cell_type": "markdown",
   "id": "ee21b6e1-17f7-4e6d-88be-e9ec4834d21e",
   "metadata": {},
   "source": [
    "### create a new stream"
   ]
  },
  {
   "cell_type": "code",
   "execution_count": null,
   "id": "b917ba27-5568-4a37-8108-bf896615e459",
   "metadata": {},
   "outputs": [],
   "source": [
    "from timeplus import KafkaProperties, KafkaSource, SourceConnection\n",
    "\n",
    "source = KafkaSource().name(\"kafka\").properties(\n",
    "    KafkaProperties().topic(\"covid19\")\n",
    "    .brokers(\"pkc-ld537.ca-central-1.aws.confluent.cloud:9092\")\n",
    "    .sasl(\"plain\").username(os.environ.get(\"KAFKA_USER\"))\n",
    "    .password(os.environ.get(\"KAFKA_PASS\"))\n",
    "    .offset(\"earliest\")\n",
    "    .group(\"testgroup\")\n",
    ")\n",
    "\n",
    "sourceConnection = (\n",
    "        SourceConnection()\n",
    "        .stream(\"covid19\")\n",
    "        .auto_create(True)\n",
    "    )\n",
    "\n",
    "source.connection(sourceConnection)\n",
    "source.create()"
   ]
  },
  {
   "cell_type": "code",
   "execution_count": null,
   "id": "1239c2e6-3048-4aad-8497-57bf3cefe745",
   "metadata": {},
   "outputs": [],
   "source": [
    "source.start()"
   ]
  }
 ],
 "metadata": {
  "kernelspec": {
   "display_name": "Python 3 (ipykernel)",
   "language": "python",
   "name": "python3"
  },
  "language_info": {
   "codemirror_mode": {
    "name": "ipython",
    "version": 3
   },
   "file_extension": ".py",
   "mimetype": "text/x-python",
   "name": "python",
   "nbconvert_exporter": "python",
   "pygments_lexer": "ipython3",
   "version": "3.9.10"
  }
 },
 "nbformat": 4,
 "nbformat_minor": 5
}
